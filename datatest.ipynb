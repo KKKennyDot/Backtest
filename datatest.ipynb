{
 "cells": [
  {
   "cell_type": "code",
   "execution_count": 5,
   "metadata": {},
   "outputs": [
    {
     "ename": "KeyError",
     "evalue": "('id', 'price')",
     "output_type": "error",
     "traceback": [
      "\u001b[1;31m---------------------------------------------------------------------------\u001b[0m",
      "\u001b[1;31mKeyError\u001b[0m                                  Traceback (most recent call last)",
      "Cell \u001b[1;32mIn[5], line 6\u001b[0m\n\u001b[0;32m      3\u001b[0m trade_cols \u001b[38;5;241m=\u001b[39m \u001b[38;5;28mdict\u001b[39m(\u001b[38;5;28mzip\u001b[39m(trade_cols, \u001b[38;5;28mrange\u001b[39m(\u001b[38;5;241m9\u001b[39m)))\n\u001b[0;32m      4\u001b[0m \u001b[38;5;66;03m# a[trade_cols[['timestamp', 'start_timestamp', 'end_timestamp']]] = a[trade_cols['timestamp', 'start_timestamp', 'end_timestamp']].astype(str)\u001b[39;00m\n\u001b[0;32m      5\u001b[0m \u001b[38;5;66;03m# trade_cols[['timestamp', 'start_timestamp', 'end_timestamp']]\u001b[39;00m\n\u001b[1;32m----> 6\u001b[0m \u001b[43mtrade_cols\u001b[49m\u001b[43m[\u001b[49m\u001b[38;5;124;43m'\u001b[39;49m\u001b[38;5;124;43mid\u001b[39;49m\u001b[38;5;124;43m'\u001b[39;49m\u001b[43m,\u001b[49m\u001b[38;5;124;43m'\u001b[39;49m\u001b[38;5;124;43mprice\u001b[39;49m\u001b[38;5;124;43m'\u001b[39;49m\u001b[43m]\u001b[49m\n",
      "\u001b[1;31mKeyError\u001b[0m: ('id', 'price')"
     ]
    }
   ],
   "source": [
    "a = [1,2,3,4,5,6,7,8,9]\n",
    "trade_cols = ['id', 'price', 'qty', 'quoteQty', 'timestamp', 'isBuyerMaker', 'isBestMatch', 'start_timestamp', 'end_timestamp']\n",
    "trade_cols = dict(zip(trade_cols, range(9)))\n",
    "# a[trade_cols[['timestamp', 'start_timestamp', 'end_timestamp']]] = a[trade_cols['timestamp', 'start_timestamp', 'end_timestamp']].astype(str)\n",
    "# trade_cols[['timestamp', 'start_timestamp', 'end_timestamp']]\n",
    "trade_cols['id','price']"
   ]
  }
 ],
 "metadata": {
  "kernelspec": {
   "display_name": "BTC_env",
   "language": "python",
   "name": "python3"
  },
  "language_info": {
   "codemirror_mode": {
    "name": "ipython",
    "version": 3
   },
   "file_extension": ".py",
   "mimetype": "text/x-python",
   "name": "python",
   "nbconvert_exporter": "python",
   "pygments_lexer": "ipython3",
   "version": "3.12.0"
  }
 },
 "nbformat": 4,
 "nbformat_minor": 2
}
